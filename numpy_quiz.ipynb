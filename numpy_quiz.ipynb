{
 "cells": [
  {
   "cell_type": "markdown",
   "metadata": {},
   "source": [
    "# Numpyの確認課題"
   ]
  },
  {
   "cell_type": "markdown",
   "metadata": {},
   "source": [
    "## 必要モジュールのインポート\n",
    "\n",
    "この問題で使うモジュールをインポートします．"
   ]
  },
  {
   "cell_type": "code",
   "execution_count": 11,
   "metadata": {},
   "outputs": [],
   "source": [
    "import matplotlib.pyplot as plt\n",
    "import numpy as np\n",
    "np.random.seed(0)"
   ]
  },
  {
   "cell_type": "markdown",
   "metadata": {},
   "source": [
    "---"
   ]
  },
  {
   "cell_type": "markdown",
   "metadata": {},
   "source": [
    "### 問1. `ndarray`の生成\n",
    "\n",
    "以下の2つの`ndarray`を定義しなさい．\n",
    "- 観測値 `x`: 初項`0`，末項`5`，項数`100`の等差数列\n",
    "- ノイズ `noise`: 標準正規分布に従う`100`個の乱数"
   ]
  },
  {
   "cell_type": "code",
   "execution_count": 12,
   "metadata": {},
   "outputs": [],
   "source": [
    "x = np.linspace(0,5,100) #観測値の定義,\n",
    "noise = np.random.normal(loc = 0,scale = 1,size = 100) #乱数の定義"
   ]
  },
  {
   "cell_type": "markdown",
   "metadata": {},
   "source": [
    "---"
   ]
  },
  {
   "cell_type": "markdown",
   "metadata": {},
   "source": [
    "ここで，真の関数 $y(x) = 3 - 5x + x^2$ を定義します．"
   ]
  },
  {
   "cell_type": "code",
   "execution_count": 13,
   "metadata": {},
   "outputs": [],
   "source": [
    "def y(x):\n",
    "    \"真の関数\",\n",
    "    return 3 - 5 * x + x ** 2"
   ]
  },
  {
   "cell_type": "markdown",
   "metadata": {},
   "source": [
    "### 問2． `ndarray`の操作\n",
    "\n",
    "問1で生成した観測値 `x` に対応する目標値 `t` を定義しなさい．\n",
    "\n",
    "目標値 $t$ は， $t = y(x) + \\epsilon$ と表されます．  ( $y$: 真の関数, $\\epsilon$: ノイズ )  \n",
    "実際の観測値にはどうしてもノイズ(観測誤差)が発生してしまいます．今回は，それを`noise`で再現します．\n",
    "\n",
    "問1で観測値を100個生成したので，それぞれに対応する目標値も100個作成する必要がありますが， `for` 文は絶対使ってはいけません．"
   ]
  },
  {
   "cell_type": "code",
   "execution_count": 14,
   "metadata": {},
   "outputs": [],
   "source": [
    "t = y(x)+ noise #目標値の定義"
   ]
  },
  {
   "cell_type": "markdown",
   "metadata": {},
   "source": [
    "matplotlib で可視化すると以下のようなグラフになります．\n",
    "scatter → 散布図"
   ]
  },
  {
   "cell_type": "code",
   "execution_count": 15,
   "metadata": {},
   "outputs": [
    {
     "data": {
      "text/plain": [
       "<matplotlib.collections.PathCollection at 0x108e93e00>"
      ]
     },
     "execution_count": 15,
     "metadata": {},
     "output_type": "execute_result"
    },
    {
     "data": {
      "image/png": "[encoded data removed]",
      "text/plain": [
       "<Figure size 640x480 with 1 Axes>"
      ]
     },
     "metadata": {},
     "output_type": "display_data"
    }
   ],
   "source": [
    "plt.scatter(x, t)"
   ]
  },
  {
   "cell_type": "markdown",
   "metadata": {},
   "source": [
    "---"
   ]
  },
  {
   "cell_type": "markdown",
   "metadata": {},
   "source": [
    "### 問3. `ndarray`の結合\n",
    "\n",
    "以下の3つの`ndarray`を垂直方向に結合した2次元配列を転置した行列 `X` を定義しなさい．\n",
    "\n",
    "- x0: 長さが `x` と同じで要素が全て1の`ndarray`\n",
    "- x1: 観測値 `x` の各要素を1乗した`ndarray`\n",
    "- x2: 観測値 `x` の各要素を2乗した`ndarray`\n",
    "\n",
    "例： $x = (1, 2, 3)$ のとき，\n",
    "\n",
    "$$\n",
    "x_0 = (1, 1, 1)\\\\\n",
    "x_1 = (1, 2, 3)\\\\\n",
    "x_2 = (1, 4, 9)\n",
    "$$\n",
    "\n",
    "だから，\n",
    "\n",
    "$$\n",
    "X = \\left(\n",
    "\\begin{array}{ccc}\n",
    "    1 & 1 & 1 \\\\\n",
    "    1 & 2 & 3 \\\\\n",
    "    1 & 4 & 9\n",
    "\\end{array}\n",
    "\\right)^T\n",
    "= \\left(\n",
    "\\begin{array}{ccc}\n",
    "    1 & 1 & 1 \\\\\n",
    "    1 & 2 & 4 \\\\\n",
    "    1 & 3 & 9\n",
    "\\end{array}\n",
    "\\right)\n",
    "$$\n",
    "\n",
    "ちなみに，機械学習では `X` のような行列を計画行列と呼びます．"
   ]
  },
  {
   "cell_type": "code",
   "execution_count": null,
   "metadata": {},
   "outputs": [],
   "source": [
    "X = np.array([np.ones_like(x),\n",
    "              np.power(x,1),\n",
    "              np.power(x,2)]).T #N次元配列の各要素を累乗しています。"
   ]
  },
  {
   "cell_type": "markdown",
   "metadata": {},
   "source": [
    "---"
   ]
  },
  {
   "cell_type": "markdown",
   "metadata": {},
   "source": [
    "### 問4. 線形代数\n",
    "\n",
    "観測値 `x, t` をもとに真の関数 `y` を2次関数で回帰しなさい．\n",
    "\n",
    "任意の2次関数は $y(x) = w_0 + w_1 x + w_2 x^2$ と表すことができます．  \n",
    "なので，パラメータのベクトル $\\mathbf{w} = (w_0, w_1, w_2)$ を求めれば良いことになります．\n",
    "\n",
    "これは以下の正規方程式から求めることができます．\n",
    "\n",
    "$ \\mathbf{w} = (X^T X)^{-1} X^T \\mathbf{t} $\n",
    "\n",
    "この式の導出はdev_data勉強会で学びます．\n",
    "\n",
    "行列の積が多い場合は`np.dot`を使わない方が簡潔に書けます．"
   ]
  },
  {
   "cell_type": "code",
   "execution_count": 26,
   "metadata": {},
   "outputs": [
    {
     "ename": "NameError",
     "evalue": "name 'X' is not defined",
     "output_type": "error",
     "traceback": [
      "\u001b[0;31m---------------------------------------------------------------------------\u001b[0m",
      "\u001b[0;31mNameError\u001b[0m                                 Traceback (most recent call last)",
      "Cell \u001b[0;32mIn[26], line 1\u001b[0m\n\u001b[0;32m----> 1\u001b[0m w0, w1, w2 \u001b[38;5;241m=\u001b[39m np\u001b[38;5;241m.\u001b[39mlinalg\u001b[38;5;241m.\u001b[39msolve(\u001b[43mX\u001b[49m\u001b[38;5;241m.\u001b[39mT \u001b[38;5;241m@\u001b[39m X, X\u001b[38;5;241m.\u001b[39mT \u001b[38;5;241m@\u001b[39m t) \u001b[38;5;66;03m#行列を連立方程式として解いています\u001b[39;00m\n\u001b[1;32m      2\u001b[0m pred_y \u001b[38;5;241m=\u001b[39m w0 \u001b[38;5;241m+\u001b[39m w1 \u001b[38;5;241m*\u001b[39m x \u001b[38;5;241m+\u001b[39m w2 \u001b[38;5;241m*\u001b[39m x \u001b[38;5;241m*\u001b[39m\u001b[38;5;241m*\u001b[39m \u001b[38;5;241m2\u001b[39m\n",
      "\u001b[0;31mNameError\u001b[0m: name 'X' is not defined"
     ]
    }
   ],
   "source": [
    "w0, w1, w2 = np.linalg.solve(X.T @ X, X.T @ t) #行列を連立方程式として解いています\n",
    "pred_y = w0 + w1 * x + w2 * x ** 2"
   ]
  },
  {
   "cell_type": "markdown",
   "metadata": {},
   "source": [
    "---"
   ]
  },
  {
   "cell_type": "markdown",
   "metadata": {},
   "source": [
    "### 結果\n",
    "\n",
    "先ほどのグラフに真の関数(緑)と回帰曲線(赤)を重ねると以下のようになります．"
   ]
  },
  {
   "cell_type": "code",
   "execution_count": 21,
   "metadata": {},
   "outputs": [
    {
     "ename": "NameError",
     "evalue": "name 'pred_y' is not defined",
     "output_type": "error",
     "traceback": [
      "\u001b[0;31m---------------------------------------------------------------------------\u001b[0m",
      "\u001b[0;31mNameError\u001b[0m                                 Traceback (most recent call last)",
      "Cell \u001b[0;32mIn[21], line 2\u001b[0m\n\u001b[1;32m      1\u001b[0m plt\u001b[38;5;241m.\u001b[39mscatter(x, t)\n\u001b[0;32m----> 2\u001b[0m plt\u001b[38;5;241m.\u001b[39mplot(x, \u001b[43mpred_y\u001b[49m, linewidth\u001b[38;5;241m=\u001b[39m\u001b[38;5;241m5\u001b[39m, color\u001b[38;5;241m=\u001b[39m\u001b[38;5;124m\"\u001b[39m\u001b[38;5;124mred\u001b[39m\u001b[38;5;124m\"\u001b[39m, label\u001b[38;5;241m=\u001b[39m\u001b[38;5;124m\"\u001b[39m\u001b[38;5;124mpred\u001b[39m\u001b[38;5;124m\"\u001b[39m)\n\u001b[1;32m      3\u001b[0m plt\u001b[38;5;241m.\u001b[39mplot(x, y(x), linewidth\u001b[38;5;241m=\u001b[39m\u001b[38;5;241m5\u001b[39m, color\u001b[38;5;241m=\u001b[39m\u001b[38;5;124m\"\u001b[39m\u001b[38;5;124mgreen\u001b[39m\u001b[38;5;124m\"\u001b[39m, label\u001b[38;5;241m=\u001b[39m\u001b[38;5;124m\"\u001b[39m\u001b[38;5;124mtrue\u001b[39m\u001b[38;5;124m\"\u001b[39m)\n\u001b[1;32m      4\u001b[0m plt\u001b[38;5;241m.\u001b[39mlegend()\n",
      "\u001b[0;31mNameError\u001b[0m: name 'pred_y' is not defined"
     ]
    },
    {
     "data": {
      "image/png": "[encoded data removed]",
      "text/plain": [
       "<Figure size 640x480 with 1 Axes>"
      ]
     },
     "metadata": {},
     "output_type": "display_data"
    }
   ],
   "source": [
    "plt.scatter(x, t)\n",
    "plt.plot(x, pred_y, linewidth=5, color=\"red\", label=\"pred\")\n",
    "plt.plot(x, y(x), linewidth=5, color=\"green\", label=\"true\")\n",
    "plt.legend()"
   ]
  },
  {
   "cell_type": "markdown",
   "metadata": {},
   "source": [
    "今回使った手法は 真の関数 `y` の定義を変更するとその他のコードを全く変更しなくても同様に回帰することができます．\n",
    "\n",
    "例えば以下のように変更したらその関数を回帰します．\n",
    "\n",
    "```python\n",
    "def y(x):\n",
    "    \"\"\"真の関数\"\"\"\n",
    "    return 5 * np.sin(np.pi * x / 5)\n",
    "```\n",
    "dev_data勉強会で詳しくやりますが，この回帰曲線の表現力は2次までです．\n",
    "カーブが2つ以上の曲線を回帰したい場合は問3の計画行列の列数を　`x3, x4...`　のように増やせば表現力が上がります．"
   ]
  },
  {
   "cell_type": "code",
   "execution_count": null,
   "metadata": {},
   "outputs": [],
   "source": []
  }
 ],
 "metadata": {
  "kernelspec": {
   "display_name": "Python 3",
   "language": "python",
   "name": "python3"
  },
  "language_info": {
   "codemirror_mode": {
    "name": "ipython",
    "version": 3
   },
   "file_extension": ".py",
   "mimetype": "text/x-python",
   "name": "python",
   "nbconvert_exporter": "python",
   "pygments_lexer": "ipython3",
   "version": "3.12.3"
  }
 },
 "nbformat": 4,
 "nbformat_minor": 4
}
